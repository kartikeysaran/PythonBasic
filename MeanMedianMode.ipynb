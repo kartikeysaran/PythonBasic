{
 "cells": [
  {
   "cell_type": "code",
   "execution_count": 12,
   "metadata": {},
   "outputs": [
    {
     "data": {
      "text/plain": [
       "26947.928053405147"
      ]
     },
     "execution_count": 12,
     "metadata": {},
     "output_type": "execute_result"
    }
   ],
   "source": [
    "import numpy as np\n",
    "\n",
    "incomes = np.random.normal(27000, 15000, 10000)\n",
    "np.mean(incomes)"
   ]
  },
  {
   "cell_type": "code",
   "execution_count": 8,
   "metadata": {},
   "outputs": [
    {
     "data": {
      "image/png": "[encoded data removed]",
      "text/plain": [
       "<Figure size 432x288 with 1 Axes>"
      ]
     },
     "metadata": {
      "needs_background": "light"
     },
     "output_type": "display_data"
    }
   ],
   "source": [
    "%matplotlib inline\n",
    "import matplotlib.pyplot as plt\n",
    "plt.hist(incomes, 50)\n",
    "plt.show()"
   ]
  },
  {
   "cell_type": "code",
   "execution_count": 9,
   "metadata": {},
   "outputs": [
    {
     "data": {
      "text/plain": [
       "27377.47559484622"
      ]
     },
     "execution_count": 9,
     "metadata": {},
     "output_type": "execute_result"
    }
   ],
   "source": [
    " np.median(incomes)"
   ]
  },
  {
   "cell_type": "code",
   "execution_count": 7,
   "metadata": {},
   "outputs": [],
   "source": [
    "incomes = np.append(incomes, [100000000])"
   ]
  },
  {
   "cell_type": "code",
   "execution_count": 13,
   "metadata": {},
   "outputs": [
    {
     "data": {
      "text/plain": [
       "array([46, 88, 82, 32, 40, 82, 78, 23, 70, 35, 27, 66, 50, 72, 41, 55, 51,\n",
       "       64, 49, 27, 82, 83, 80, 57, 36, 60, 38, 75, 62, 22, 44, 27, 59, 45,\n",
       "       18, 56, 53, 65, 87, 20, 54, 84, 23, 35, 36, 86, 63, 31, 37, 26, 76,\n",
       "       26, 50, 48, 64, 63, 29, 41, 68, 81, 24, 30, 63, 28, 37, 62, 42, 19,\n",
       "       68, 61, 78, 32, 68, 34, 85, 24, 71, 81, 37, 68, 77, 19, 50, 58, 34,\n",
       "       89, 20, 31, 26, 19, 19, 44, 37, 44, 47, 24, 89, 57, 63, 36, 36, 29,\n",
       "       67, 86, 23, 51, 46, 31, 40, 19, 33, 45, 53, 57, 88, 18, 21, 20, 85,\n",
       "       19, 65, 71, 20, 18, 56, 82, 60, 82, 30, 52, 42, 82, 81, 25, 21, 53,\n",
       "       40, 43, 68, 41, 19, 81, 89, 28, 34, 55, 60, 63, 29, 20, 49, 71, 53,\n",
       "       63, 78, 23, 88, 45, 44, 56, 87, 61, 49, 71, 85, 27, 74, 25, 69, 44,\n",
       "       21, 83, 58, 19, 57, 89, 85, 66, 36, 22, 55, 21, 85, 37, 45, 53, 18,\n",
       "       88, 85, 45, 31, 60, 34, 72, 36, 68, 66, 75, 64, 65, 84, 51, 44, 80,\n",
       "       37, 43, 27, 67, 44, 42, 51, 42, 78, 24, 57, 85, 74, 45, 24, 74, 64,\n",
       "       73, 26, 67, 19, 47, 54, 77, 54, 75, 37, 25, 49, 76, 62, 85, 33, 86,\n",
       "       67, 81, 51, 34, 57, 60, 63, 44, 85, 27, 60, 29, 36, 69, 22, 85, 56,\n",
       "       70, 41, 38, 24, 34, 80, 24, 60, 35, 71, 48, 35, 47, 76, 46, 70, 70,\n",
       "       83, 65, 53, 38, 51, 55, 39, 83, 62, 30, 86, 47, 73, 85, 26, 35, 88,\n",
       "       60, 71, 30, 19, 67, 57, 37, 81, 36, 75, 29, 84, 32, 70, 82, 64, 18,\n",
       "       37, 80, 83, 44, 42, 45, 52, 43, 39, 63, 67, 44, 78, 24, 53, 31, 66,\n",
       "       62, 75, 43, 64, 48, 33, 24, 35, 35, 27, 44, 81, 23, 53, 68, 76, 52,\n",
       "       66, 46, 28, 61, 51, 21, 88, 70, 48, 83, 37, 85, 36, 42, 72, 53, 46,\n",
       "       75, 86, 64, 41, 50, 37, 18, 69, 53, 18, 86, 34, 73, 64, 84, 23, 67,\n",
       "       20, 68, 45, 62, 85, 49, 65, 51, 22, 55, 51, 36, 61, 75, 20, 28, 37,\n",
       "       33, 52, 40, 52, 37, 33, 68, 48, 33, 86, 73, 33, 85, 57, 64, 35, 44,\n",
       "       61, 29, 37, 37, 63, 19, 26, 55, 83, 71, 54, 22, 55, 39, 37, 31, 22,\n",
       "       57, 64, 60, 82, 56, 55, 69, 74, 43, 81, 47, 44, 67, 64, 86, 83, 47,\n",
       "       40, 54, 80, 61, 30, 73, 22, 44, 82, 74, 73, 29, 76, 76, 54, 61, 63,\n",
       "       84, 58, 67, 28, 43, 30, 75, 76, 53, 74, 74, 32, 46, 42, 77, 36, 49,\n",
       "       50, 56, 56, 24, 40, 59, 26, 52, 65, 81, 23, 42, 35, 43, 76, 34, 48,\n",
       "       44, 33, 84, 46, 24, 44, 32])"
      ]
     },
     "execution_count": 13,
     "metadata": {},
     "output_type": "execute_result"
    }
   ],
   "source": [
    "ages = np.random.randint(18, high = 90, size = 500)\n",
    "ages"
   ]
  },
  {
   "cell_type": "code",
   "execution_count": 14,
   "metadata": {},
   "outputs": [
    {
     "data": {
      "text/plain": [
       "ModeResult(mode=array([37]), count=array([16]))"
      ]
     },
     "execution_count": 14,
     "metadata": {},
     "output_type": "execute_result"
    }
   ],
   "source": [
    "from scipy import stats\n",
    "stats.mode(ages)"
   ]
  },
  {
   "cell_type": "code",
   "execution_count": null,
   "metadata": {},
   "outputs": [],
   "source": []
  }
 ],
 "metadata": {
  "kernelspec": {
   "display_name": "Python 3",
   "language": "python",
   "name": "python3"
  },
  "language_info": {
   "codemirror_mode": {
    "name": "ipython",
    "version": 3
   },
   "file_extension": ".py",
   "mimetype": "text/x-python",
   "name": "python",
   "nbconvert_exporter": "python",
   "pygments_lexer": "ipython3",
   "version": "3.8.5"
  }
 },
 "nbformat": 4,
 "nbformat_minor": 4
}
